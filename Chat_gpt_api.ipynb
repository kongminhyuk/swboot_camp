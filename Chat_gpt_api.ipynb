{
  "nbformat": 4,
  "nbformat_minor": 0,
  "metadata": {
    "colab": {
      "provenance": [],
      "authorship_tag": "ABX9TyMzfOltuiIfV+7/NOvFLSPG",
      "include_colab_link": true
    },
    "kernelspec": {
      "name": "python3",
      "display_name": "Python 3"
    },
    "language_info": {
      "name": "python"
    }
  },
  "cells": [
    {
      "cell_type": "markdown",
      "metadata": {
        "id": "view-in-github",
        "colab_type": "text"
      },
      "source": [
        "<a href=\"https://colab.research.google.com/github/kongminhyuk/swboot_camp/blob/main/Chat_gpt_api.ipynb\" target=\"_parent\"><img src=\"https://colab.research.google.com/assets/colab-badge.svg\" alt=\"Open In Colab\"/></a>"
      ]
    },
    {
      "cell_type": "code",
      "execution_count": null,
      "metadata": {
        "id": "_-7e9e-qjOFi"
      },
      "outputs": [],
      "source": [
        "from openai import OpenAI\n",
        "\n",
        "def get_completion(prompt, model=\"gpt-3.5-turbo\"):\n",
        "  client = OpenAI(api_key='API_KEY') #gpt api key 받아와서 입력\n",
        "  completion = client.chat.completions.create(\n",
        "  model=model,\n",
        "  messages=[{\"role\": \"user\", \"content\":prompt},])\n",
        "  response = completion.choices[0].message.content\n",
        "  return response\n",
        "\n",
        "prompt = input(\"검색하실 판례를 입력해주세요:\")\n",
        "response = get_completion(prompt)\n",
        "print(response)"
      ]
    }
  ]
}